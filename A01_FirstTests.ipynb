{
 "cells": [
  {
   "cell_type": "code",
   "execution_count": 1,
   "metadata": {},
   "outputs": [],
   "source": [
    "import pyvisa"
   ]
  },
  {
   "cell_type": "code",
   "execution_count": 26,
   "metadata": {},
   "outputs": [
    {
     "data": {
      "text/plain": [
       "('ASRL1::INSTR', 'ASRL12::INSTR', 'GPIB0::16::INSTR', 'GPIB0::17::INSTR')"
      ]
     },
     "execution_count": 26,
     "metadata": {},
     "output_type": "execute_result"
    }
   ],
   "source": [
    "rm = pyvisa.ResourceManager()\n",
    "rm.list_resources()"
   ]
  },
  {
   "cell_type": "code",
   "execution_count": 27,
   "metadata": {},
   "outputs": [
    {
     "data": {
      "text/plain": [
       "4"
      ]
     },
     "execution_count": 27,
     "metadata": {},
     "output_type": "execute_result"
    }
   ],
   "source": [
    "inst1 = rm.open_resource('GPIB0::16::INSTR')\n",
    "inst1.write_termination = ''\n",
    "inst1.write(\"PT17\")"
   ]
  },
  {
   "cell_type": "code",
   "execution_count": 28,
   "metadata": {},
   "outputs": [],
   "source": [
    "inst2 = rm.open_resource('GPIB0::17::INSTR')\n",
    "inst2.write_termination = ''"
   ]
  },
  {
   "cell_type": "code",
   "execution_count": 20,
   "metadata": {},
   "outputs": [
    {
     "data": {
      "text/plain": [
       "2"
      ]
     },
     "execution_count": 20,
     "metadata": {},
     "output_type": "execute_result"
    }
   ],
   "source": [
    "inst1.write(\"C2\")"
   ]
  },
  {
   "cell_type": "code",
   "execution_count": 29,
   "metadata": {},
   "outputs": [
    {
     "ename": "VisaIOError",
     "evalue": "VI_ERROR_TMO (-1073807339): Timeout expired before operation completed.",
     "output_type": "error",
     "traceback": [
      "\u001b[1;31m---------------------------------------------------------------------------\u001b[0m",
      "\u001b[1;31mVisaIOError\u001b[0m                               Traceback (most recent call last)",
      "Cell \u001b[1;32mIn[29], line 2\u001b[0m\n\u001b[0;32m      1\u001b[0m inst2\u001b[38;5;241m.\u001b[39mwrite(\u001b[38;5;124m\"\u001b[39m\u001b[38;5;124mOPFA\u001b[39m\u001b[38;5;124m\"\u001b[39m)\n\u001b[1;32m----> 2\u001b[0m \u001b[43minst2\u001b[49m\u001b[38;5;241;43m.\u001b[39;49m\u001b[43mread_ascii_values\u001b[49m\u001b[43m(\u001b[49m\u001b[43m)\u001b[49m\n",
      "File \u001b[1;32mc:\\Users\\Leonardo Zampieri\\mambaforge\\lib\\site-packages\\pyvisa\\resources\\messagebased.py:528\u001b[0m, in \u001b[0;36mMessageBasedResource.read_ascii_values\u001b[1;34m(self, converter, separator, container)\u001b[0m\n\u001b[0;32m    507\u001b[0m \u001b[38;5;250m\u001b[39m\u001b[38;5;124;03m\"\"\"Read values from the device in ascii format returning an iterable of\u001b[39;00m\n\u001b[0;32m    508\u001b[0m \u001b[38;5;124;03mvalues.\u001b[39;00m\n\u001b[0;32m    509\u001b[0m \n\u001b[1;32m   (...)\u001b[0m\n\u001b[0;32m    525\u001b[0m \n\u001b[0;32m    526\u001b[0m \u001b[38;5;124;03m\"\"\"\u001b[39;00m\n\u001b[0;32m    527\u001b[0m \u001b[38;5;66;03m# Use read rather than _read_raw because we cannot handle a bytearray\u001b[39;00m\n\u001b[1;32m--> 528\u001b[0m block \u001b[38;5;241m=\u001b[39m \u001b[38;5;28;43mself\u001b[39;49m\u001b[38;5;241;43m.\u001b[39;49m\u001b[43mread\u001b[49m\u001b[43m(\u001b[49m\u001b[43m)\u001b[49m\n\u001b[0;32m    530\u001b[0m \u001b[38;5;28;01mreturn\u001b[39;00m util\u001b[38;5;241m.\u001b[39mfrom_ascii_block(block, converter, separator, container)\n",
      "File \u001b[1;32mc:\\Users\\Leonardo Zampieri\\mambaforge\\lib\\site-packages\\pyvisa\\resources\\messagebased.py:485\u001b[0m, in \u001b[0;36mMessageBasedResource.read\u001b[1;34m(self, termination, encoding)\u001b[0m\n\u001b[0;32m    483\u001b[0m \u001b[38;5;28;01mif\u001b[39;00m termination \u001b[38;5;129;01mis\u001b[39;00m \u001b[38;5;28;01mNone\u001b[39;00m:\n\u001b[0;32m    484\u001b[0m     termination \u001b[38;5;241m=\u001b[39m \u001b[38;5;28mself\u001b[39m\u001b[38;5;241m.\u001b[39m_read_termination\n\u001b[1;32m--> 485\u001b[0m     message \u001b[38;5;241m=\u001b[39m \u001b[38;5;28;43mself\u001b[39;49m\u001b[38;5;241;43m.\u001b[39;49m\u001b[43m_read_raw\u001b[49m\u001b[43m(\u001b[49m\u001b[43m)\u001b[49m\u001b[38;5;241m.\u001b[39mdecode(enco)\n\u001b[0;32m    486\u001b[0m \u001b[38;5;28;01melse\u001b[39;00m:\n\u001b[0;32m    487\u001b[0m     \u001b[38;5;28;01mwith\u001b[39;00m \u001b[38;5;28mself\u001b[39m\u001b[38;5;241m.\u001b[39mread_termination_context(termination):\n",
      "File \u001b[1;32mc:\\Users\\Leonardo Zampieri\\mambaforge\\lib\\site-packages\\pyvisa\\resources\\messagebased.py:441\u001b[0m, in \u001b[0;36mMessageBasedResource._read_raw\u001b[1;34m(self, size)\u001b[0m\n\u001b[0;32m    434\u001b[0m     \u001b[38;5;28;01mwhile\u001b[39;00m status \u001b[38;5;241m==\u001b[39m loop_status:\n\u001b[0;32m    435\u001b[0m         logger\u001b[38;5;241m.\u001b[39mdebug(\n\u001b[0;32m    436\u001b[0m             \u001b[38;5;124m\"\u001b[39m\u001b[38;5;132;01m%s\u001b[39;00m\u001b[38;5;124m - reading \u001b[39m\u001b[38;5;132;01m%d\u001b[39;00m\u001b[38;5;124m bytes (last status \u001b[39m\u001b[38;5;132;01m%r\u001b[39;00m\u001b[38;5;124m)\u001b[39m\u001b[38;5;124m\"\u001b[39m,\n\u001b[0;32m    437\u001b[0m             \u001b[38;5;28mself\u001b[39m\u001b[38;5;241m.\u001b[39m_resource_name,\n\u001b[0;32m    438\u001b[0m             size,\n\u001b[0;32m    439\u001b[0m             status,\n\u001b[0;32m    440\u001b[0m         )\n\u001b[1;32m--> 441\u001b[0m         chunk, status \u001b[38;5;241m=\u001b[39m \u001b[38;5;28;43mself\u001b[39;49m\u001b[38;5;241;43m.\u001b[39;49m\u001b[43mvisalib\u001b[49m\u001b[38;5;241;43m.\u001b[39;49m\u001b[43mread\u001b[49m\u001b[43m(\u001b[49m\u001b[38;5;28;43mself\u001b[39;49m\u001b[38;5;241;43m.\u001b[39;49m\u001b[43msession\u001b[49m\u001b[43m,\u001b[49m\u001b[43m \u001b[49m\u001b[43msize\u001b[49m\u001b[43m)\u001b[49m\n\u001b[0;32m    442\u001b[0m         ret\u001b[38;5;241m.\u001b[39mextend(chunk)\n\u001b[0;32m    443\u001b[0m \u001b[38;5;28;01mexcept\u001b[39;00m errors\u001b[38;5;241m.\u001b[39mVisaIOError \u001b[38;5;28;01mas\u001b[39;00m e:\n",
      "File \u001b[1;32mc:\\Users\\Leonardo Zampieri\\mambaforge\\lib\\site-packages\\pyvisa\\ctwrapper\\functions.py:2336\u001b[0m, in \u001b[0;36mread\u001b[1;34m(library, session, count)\u001b[0m\n\u001b[0;32m   2334\u001b[0m buffer \u001b[38;5;241m=\u001b[39m create_string_buffer(count)\n\u001b[0;32m   2335\u001b[0m return_count \u001b[38;5;241m=\u001b[39m ViUInt32()\n\u001b[1;32m-> 2336\u001b[0m ret \u001b[38;5;241m=\u001b[39m \u001b[43mlibrary\u001b[49m\u001b[38;5;241;43m.\u001b[39;49m\u001b[43mviRead\u001b[49m\u001b[43m(\u001b[49m\u001b[43msession\u001b[49m\u001b[43m,\u001b[49m\u001b[43m \u001b[49m\u001b[43mbuffer\u001b[49m\u001b[43m,\u001b[49m\u001b[43m \u001b[49m\u001b[43mcount\u001b[49m\u001b[43m,\u001b[49m\u001b[43m \u001b[49m\u001b[43mbyref\u001b[49m\u001b[43m(\u001b[49m\u001b[43mreturn_count\u001b[49m\u001b[43m)\u001b[49m\u001b[43m)\u001b[49m\n\u001b[0;32m   2337\u001b[0m \u001b[38;5;28;01mreturn\u001b[39;00m buffer\u001b[38;5;241m.\u001b[39mraw[: return_count\u001b[38;5;241m.\u001b[39mvalue], ret\n",
      "File \u001b[1;32mc:\\Users\\Leonardo Zampieri\\mambaforge\\lib\\site-packages\\pyvisa\\ctwrapper\\highlevel.py:226\u001b[0m, in \u001b[0;36mIVIVisaLibrary._return_handler\u001b[1;34m(self, ret_value, func, arguments)\u001b[0m\n\u001b[0;32m    223\u001b[0m         \u001b[38;5;66;03m# Set session back to a safe value\u001b[39;00m\n\u001b[0;32m    224\u001b[0m         session \u001b[38;5;241m=\u001b[39m \u001b[38;5;28;01mNone\u001b[39;00m\n\u001b[1;32m--> 226\u001b[0m \u001b[38;5;28;01mreturn\u001b[39;00m \u001b[38;5;28;43mself\u001b[39;49m\u001b[38;5;241;43m.\u001b[39;49m\u001b[43mhandle_return_value\u001b[49m\u001b[43m(\u001b[49m\u001b[43msession\u001b[49m\u001b[43m,\u001b[49m\u001b[43m \u001b[49m\u001b[43mret_value\u001b[49m\u001b[43m)\u001b[49m\n",
      "File \u001b[1;32mc:\\Users\\Leonardo Zampieri\\mambaforge\\lib\\site-packages\\pyvisa\\highlevel.py:251\u001b[0m, in \u001b[0;36mVisaLibraryBase.handle_return_value\u001b[1;34m(self, session, status_code)\u001b[0m\n\u001b[0;32m    248\u001b[0m     \u001b[38;5;28mself\u001b[39m\u001b[38;5;241m.\u001b[39m_last_status_in_session[session] \u001b[38;5;241m=\u001b[39m rv\n\u001b[0;32m    250\u001b[0m \u001b[38;5;28;01mif\u001b[39;00m rv \u001b[38;5;241m<\u001b[39m \u001b[38;5;241m0\u001b[39m:\n\u001b[1;32m--> 251\u001b[0m     \u001b[38;5;28;01mraise\u001b[39;00m errors\u001b[38;5;241m.\u001b[39mVisaIOError(rv)\n\u001b[0;32m    253\u001b[0m \u001b[38;5;28;01mif\u001b[39;00m rv \u001b[38;5;129;01min\u001b[39;00m \u001b[38;5;28mself\u001b[39m\u001b[38;5;241m.\u001b[39missue_warning_on:\n\u001b[0;32m    254\u001b[0m     \u001b[38;5;28;01mif\u001b[39;00m session \u001b[38;5;129;01mand\u001b[39;00m rv \u001b[38;5;129;01mnot\u001b[39;00m \u001b[38;5;129;01min\u001b[39;00m \u001b[38;5;28mself\u001b[39m\u001b[38;5;241m.\u001b[39m_ignore_warning_in_session[session]:\n",
      "\u001b[1;31mVisaIOError\u001b[0m: VI_ERROR_TMO (-1073807339): Timeout expired before operation completed."
     ]
    }
   ],
   "source": [
    "inst2.write(\"OPFA\")\n",
    "inst2.read_ascii_values()"
   ]
  },
  {
   "cell_type": "code",
   "execution_count": 11,
   "metadata": {},
   "outputs": [
    {
     "data": {
      "text/plain": [
       "[0.0, 0.0, 2924.0, 2047.0]"
      ]
     },
     "execution_count": 11,
     "metadata": {},
     "output_type": "execute_result"
    }
   ],
   "source": []
  },
  {
   "cell_type": "code",
   "execution_count": 45,
   "metadata": {},
   "outputs": [
    {
     "data": {
      "text/plain": [
       "2"
      ]
     },
     "execution_count": 45,
     "metadata": {},
     "output_type": "execute_result"
    }
   ],
   "source": [
    "inst.write(\"C0\")"
   ]
  },
  {
   "cell_type": "code",
   "execution_count": 78,
   "metadata": {},
   "outputs": [
    {
     "data": {
      "text/plain": [
       "3"
      ]
     },
     "execution_count": 78,
     "metadata": {},
     "output_type": "execute_result"
    }
   ],
   "source": [
    "inst.write(\"OV;\")"
   ]
  },
  {
   "cell_type": "code",
   "execution_count": 79,
   "metadata": {},
   "outputs": [
    {
     "ename": "VisaIOError",
     "evalue": "VI_ERROR_TMO (-1073807339): Timeout expired before operation completed.",
     "output_type": "error",
     "traceback": [
      "\u001b[1;31m---------------------------------------------------------------------------\u001b[0m",
      "\u001b[1;31mVisaIOError\u001b[0m                               Traceback (most recent call last)",
      "Cell \u001b[1;32mIn[79], line 1\u001b[0m\n\u001b[1;32m----> 1\u001b[0m \u001b[43minst\u001b[49m\u001b[38;5;241;43m.\u001b[39;49m\u001b[43mread_ascii_values\u001b[49m\u001b[43m(\u001b[49m\u001b[43m)\u001b[49m\n",
      "File \u001b[1;32mc:\\Users\\Leonardo Zampieri\\mambaforge\\lib\\site-packages\\pyvisa\\resources\\messagebased.py:528\u001b[0m, in \u001b[0;36mMessageBasedResource.read_ascii_values\u001b[1;34m(self, converter, separator, container)\u001b[0m\n\u001b[0;32m    507\u001b[0m \u001b[38;5;250m\u001b[39m\u001b[38;5;124;03m\"\"\"Read values from the device in ascii format returning an iterable of\u001b[39;00m\n\u001b[0;32m    508\u001b[0m \u001b[38;5;124;03mvalues.\u001b[39;00m\n\u001b[0;32m    509\u001b[0m \n\u001b[1;32m   (...)\u001b[0m\n\u001b[0;32m    525\u001b[0m \n\u001b[0;32m    526\u001b[0m \u001b[38;5;124;03m\"\"\"\u001b[39;00m\n\u001b[0;32m    527\u001b[0m \u001b[38;5;66;03m# Use read rather than _read_raw because we cannot handle a bytearray\u001b[39;00m\n\u001b[1;32m--> 528\u001b[0m block \u001b[38;5;241m=\u001b[39m \u001b[38;5;28;43mself\u001b[39;49m\u001b[38;5;241;43m.\u001b[39;49m\u001b[43mread\u001b[49m\u001b[43m(\u001b[49m\u001b[43m)\u001b[49m\n\u001b[0;32m    530\u001b[0m \u001b[38;5;28;01mreturn\u001b[39;00m util\u001b[38;5;241m.\u001b[39mfrom_ascii_block(block, converter, separator, container)\n",
      "File \u001b[1;32mc:\\Users\\Leonardo Zampieri\\mambaforge\\lib\\site-packages\\pyvisa\\resources\\messagebased.py:485\u001b[0m, in \u001b[0;36mMessageBasedResource.read\u001b[1;34m(self, termination, encoding)\u001b[0m\n\u001b[0;32m    483\u001b[0m \u001b[38;5;28;01mif\u001b[39;00m termination \u001b[38;5;129;01mis\u001b[39;00m \u001b[38;5;28;01mNone\u001b[39;00m:\n\u001b[0;32m    484\u001b[0m     termination \u001b[38;5;241m=\u001b[39m \u001b[38;5;28mself\u001b[39m\u001b[38;5;241m.\u001b[39m_read_termination\n\u001b[1;32m--> 485\u001b[0m     message \u001b[38;5;241m=\u001b[39m \u001b[38;5;28;43mself\u001b[39;49m\u001b[38;5;241;43m.\u001b[39;49m\u001b[43m_read_raw\u001b[49m\u001b[43m(\u001b[49m\u001b[43m)\u001b[49m\u001b[38;5;241m.\u001b[39mdecode(enco)\n\u001b[0;32m    486\u001b[0m \u001b[38;5;28;01melse\u001b[39;00m:\n\u001b[0;32m    487\u001b[0m     \u001b[38;5;28;01mwith\u001b[39;00m \u001b[38;5;28mself\u001b[39m\u001b[38;5;241m.\u001b[39mread_termination_context(termination):\n",
      "File \u001b[1;32mc:\\Users\\Leonardo Zampieri\\mambaforge\\lib\\site-packages\\pyvisa\\resources\\messagebased.py:441\u001b[0m, in \u001b[0;36mMessageBasedResource._read_raw\u001b[1;34m(self, size)\u001b[0m\n\u001b[0;32m    434\u001b[0m     \u001b[38;5;28;01mwhile\u001b[39;00m status \u001b[38;5;241m==\u001b[39m loop_status:\n\u001b[0;32m    435\u001b[0m         logger\u001b[38;5;241m.\u001b[39mdebug(\n\u001b[0;32m    436\u001b[0m             \u001b[38;5;124m\"\u001b[39m\u001b[38;5;132;01m%s\u001b[39;00m\u001b[38;5;124m - reading \u001b[39m\u001b[38;5;132;01m%d\u001b[39;00m\u001b[38;5;124m bytes (last status \u001b[39m\u001b[38;5;132;01m%r\u001b[39;00m\u001b[38;5;124m)\u001b[39m\u001b[38;5;124m\"\u001b[39m,\n\u001b[0;32m    437\u001b[0m             \u001b[38;5;28mself\u001b[39m\u001b[38;5;241m.\u001b[39m_resource_name,\n\u001b[0;32m    438\u001b[0m             size,\n\u001b[0;32m    439\u001b[0m             status,\n\u001b[0;32m    440\u001b[0m         )\n\u001b[1;32m--> 441\u001b[0m         chunk, status \u001b[38;5;241m=\u001b[39m \u001b[38;5;28;43mself\u001b[39;49m\u001b[38;5;241;43m.\u001b[39;49m\u001b[43mvisalib\u001b[49m\u001b[38;5;241;43m.\u001b[39;49m\u001b[43mread\u001b[49m\u001b[43m(\u001b[49m\u001b[38;5;28;43mself\u001b[39;49m\u001b[38;5;241;43m.\u001b[39;49m\u001b[43msession\u001b[49m\u001b[43m,\u001b[49m\u001b[43m \u001b[49m\u001b[43msize\u001b[49m\u001b[43m)\u001b[49m\n\u001b[0;32m    442\u001b[0m         ret\u001b[38;5;241m.\u001b[39mextend(chunk)\n\u001b[0;32m    443\u001b[0m \u001b[38;5;28;01mexcept\u001b[39;00m errors\u001b[38;5;241m.\u001b[39mVisaIOError \u001b[38;5;28;01mas\u001b[39;00m e:\n",
      "File \u001b[1;32mc:\\Users\\Leonardo Zampieri\\mambaforge\\lib\\site-packages\\pyvisa\\ctwrapper\\functions.py:2336\u001b[0m, in \u001b[0;36mread\u001b[1;34m(library, session, count)\u001b[0m\n\u001b[0;32m   2334\u001b[0m buffer \u001b[38;5;241m=\u001b[39m create_string_buffer(count)\n\u001b[0;32m   2335\u001b[0m return_count \u001b[38;5;241m=\u001b[39m ViUInt32()\n\u001b[1;32m-> 2336\u001b[0m ret \u001b[38;5;241m=\u001b[39m \u001b[43mlibrary\u001b[49m\u001b[38;5;241;43m.\u001b[39;49m\u001b[43mviRead\u001b[49m\u001b[43m(\u001b[49m\u001b[43msession\u001b[49m\u001b[43m,\u001b[49m\u001b[43m \u001b[49m\u001b[43mbuffer\u001b[49m\u001b[43m,\u001b[49m\u001b[43m \u001b[49m\u001b[43mcount\u001b[49m\u001b[43m,\u001b[49m\u001b[43m \u001b[49m\u001b[43mbyref\u001b[49m\u001b[43m(\u001b[49m\u001b[43mreturn_count\u001b[49m\u001b[43m)\u001b[49m\u001b[43m)\u001b[49m\n\u001b[0;32m   2337\u001b[0m \u001b[38;5;28;01mreturn\u001b[39;00m buffer\u001b[38;5;241m.\u001b[39mraw[: return_count\u001b[38;5;241m.\u001b[39mvalue], ret\n",
      "File \u001b[1;32mc:\\Users\\Leonardo Zampieri\\mambaforge\\lib\\site-packages\\pyvisa\\ctwrapper\\highlevel.py:226\u001b[0m, in \u001b[0;36mIVIVisaLibrary._return_handler\u001b[1;34m(self, ret_value, func, arguments)\u001b[0m\n\u001b[0;32m    223\u001b[0m         \u001b[38;5;66;03m# Set session back to a safe value\u001b[39;00m\n\u001b[0;32m    224\u001b[0m         session \u001b[38;5;241m=\u001b[39m \u001b[38;5;28;01mNone\u001b[39;00m\n\u001b[1;32m--> 226\u001b[0m \u001b[38;5;28;01mreturn\u001b[39;00m \u001b[38;5;28;43mself\u001b[39;49m\u001b[38;5;241;43m.\u001b[39;49m\u001b[43mhandle_return_value\u001b[49m\u001b[43m(\u001b[49m\u001b[43msession\u001b[49m\u001b[43m,\u001b[49m\u001b[43m \u001b[49m\u001b[43mret_value\u001b[49m\u001b[43m)\u001b[49m\n",
      "File \u001b[1;32mc:\\Users\\Leonardo Zampieri\\mambaforge\\lib\\site-packages\\pyvisa\\highlevel.py:251\u001b[0m, in \u001b[0;36mVisaLibraryBase.handle_return_value\u001b[1;34m(self, session, status_code)\u001b[0m\n\u001b[0;32m    248\u001b[0m     \u001b[38;5;28mself\u001b[39m\u001b[38;5;241m.\u001b[39m_last_status_in_session[session] \u001b[38;5;241m=\u001b[39m rv\n\u001b[0;32m    250\u001b[0m \u001b[38;5;28;01mif\u001b[39;00m rv \u001b[38;5;241m<\u001b[39m \u001b[38;5;241m0\u001b[39m:\n\u001b[1;32m--> 251\u001b[0m     \u001b[38;5;28;01mraise\u001b[39;00m errors\u001b[38;5;241m.\u001b[39mVisaIOError(rv)\n\u001b[0;32m    253\u001b[0m \u001b[38;5;28;01mif\u001b[39;00m rv \u001b[38;5;129;01min\u001b[39;00m \u001b[38;5;28mself\u001b[39m\u001b[38;5;241m.\u001b[39missue_warning_on:\n\u001b[0;32m    254\u001b[0m     \u001b[38;5;28;01mif\u001b[39;00m session \u001b[38;5;129;01mand\u001b[39;00m rv \u001b[38;5;129;01mnot\u001b[39;00m \u001b[38;5;129;01min\u001b[39;00m \u001b[38;5;28mself\u001b[39m\u001b[38;5;241m.\u001b[39m_ignore_warning_in_session[session]:\n",
      "\u001b[1;31mVisaIOError\u001b[0m: VI_ERROR_TMO (-1073807339): Timeout expired before operation completed."
     ]
    }
   ],
   "source": [
    "inst.read_ascii_values()"
   ]
  },
  {
   "cell_type": "code",
   "execution_count": 48,
   "metadata": {},
   "outputs": [
    {
     "data": {
      "text/plain": [
       "[-57.728, 200.0]"
      ]
     },
     "execution_count": 48,
     "metadata": {},
     "output_type": "execute_result"
    }
   ],
   "source": [
    "inst.read_ascii_values()"
   ]
  },
  {
   "cell_type": "code",
   "execution_count": 47,
   "metadata": {},
   "outputs": [
    {
     "data": {
      "text/plain": [
       "3"
      ]
     },
     "execution_count": 47,
     "metadata": {},
     "output_type": "execute_result"
    }
   ],
   "source": [
    "inst.write(\"OC;\")"
   ]
  },
  {
   "cell_type": "code",
   "execution_count": 65,
   "metadata": {},
   "outputs": [
    {
     "data": {
      "text/plain": [
       "[-64.825,\n",
       " -65.982,\n",
       " -67.838,\n",
       " -63.4,\n",
       " -65.649,\n",
       " -61.84,\n",
       " -64.04,\n",
       " -61.249,\n",
       " -64.471,\n",
       " -63.765,\n",
       " -63.43,\n",
       " -61.996,\n",
       " -67.487,\n",
       " -61.738,\n",
       " -59.373,\n",
       " -65.045,\n",
       " -59.999,\n",
       " -60.03,\n",
       " -68.748,\n",
       " -60.367,\n",
       " -60.727,\n",
       " -63.718,\n",
       " -66.756,\n",
       " -67.891,\n",
       " -65.699,\n",
       " -63.944,\n",
       " -61.285,\n",
       " -68.217,\n",
       " -63.12,\n",
       " -59.818,\n",
       " -63.331,\n",
       " -68.698,\n",
       " -65.235,\n",
       " -61.271,\n",
       " -68.127,\n",
       " -65.806,\n",
       " -63.9,\n",
       " -67.514,\n",
       " -67.454,\n",
       " -65.809,\n",
       " -64.139,\n",
       " -63.136,\n",
       " -63.29,\n",
       " -60.269,\n",
       " -63.279,\n",
       " -62.625,\n",
       " -65.66,\n",
       " -67.047,\n",
       " -64.097,\n",
       " -67.88,\n",
       " -64.759,\n",
       " -60.964,\n",
       " -65.938,\n",
       " -63.545,\n",
       " -68.02,\n",
       " -63.295,\n",
       " -60.639,\n",
       " -63.694,\n",
       " -64.46,\n",
       " -68.316,\n",
       " -66.803,\n",
       " -66.218,\n",
       " -63.035,\n",
       " -65.726,\n",
       " -60.708,\n",
       " -61.115,\n",
       " -68.157,\n",
       " -60.565,\n",
       " -65.872,\n",
       " -59.085,\n",
       " -63.869,\n",
       " -62.282,\n",
       " -66.679,\n",
       " -62.763,\n",
       " -61.856,\n",
       " -59.662,\n",
       " -66.177,\n",
       " -70.0,\n",
       " -65.886,\n",
       " -62.738,\n",
       " -65.932,\n",
       " -66.188,\n",
       " -61.532,\n",
       " -68.399,\n",
       " -64.633,\n",
       " -60.958,\n",
       " -62.128,\n",
       " -66.1,\n",
       " -65.147,\n",
       " -67.41,\n",
       " -68.671,\n",
       " -64.106,\n",
       " -66.24,\n",
       " -67.014,\n",
       " -64.413,\n",
       " -65.045,\n",
       " -62.801,\n",
       " -62.211,\n",
       " -63.916,\n",
       " -64.647,\n",
       " -65.114,\n",
       " -68.292,\n",
       " -66.372,\n",
       " -65.199,\n",
       " -64.704,\n",
       " -60.057,\n",
       " -62.837,\n",
       " -64.897,\n",
       " -64.894,\n",
       " -66.938,\n",
       " -61.881,\n",
       " -60.035,\n",
       " -68.676,\n",
       " -62.164,\n",
       " -65.474,\n",
       " -64.803,\n",
       " -66.451,\n",
       " -67.885,\n",
       " -64.317,\n",
       " -65.572,\n",
       " -65.872,\n",
       " -66.037,\n",
       " -65.847,\n",
       " -67.289,\n",
       " -61.991,\n",
       " -60.763,\n",
       " -68.028,\n",
       " -68.344,\n",
       " -66.74,\n",
       " -64.762,\n",
       " -64.559,\n",
       " -64.199,\n",
       " -68.036,\n",
       " -64.108,\n",
       " -64.433,\n",
       " -63.828,\n",
       " -67.031,\n",
       " -61.123,\n",
       " -64.781,\n",
       " -62.26,\n",
       " -63.271,\n",
       " -63.01,\n",
       " -67.152,\n",
       " -69.473,\n",
       " -67.778,\n",
       " -61.587,\n",
       " -66.965,\n",
       " -64.965,\n",
       " -58.84,\n",
       " -63.672,\n",
       " -64.562,\n",
       " -69.297,\n",
       " -63.749,\n",
       " -67.457,\n",
       " -67.451,\n",
       " -64.029,\n",
       " -60.977,\n",
       " -64.894,\n",
       " -63.284,\n",
       " -65.539,\n",
       " -62.125,\n",
       " -61.804,\n",
       " -64.622,\n",
       " -60.774,\n",
       " -61.376,\n",
       " -62.496,\n",
       " -64.306,\n",
       " -63.655,\n",
       " -64.801,\n",
       " -59.607,\n",
       " -60.214,\n",
       " -59.755,\n",
       " -63.238,\n",
       " -67.325,\n",
       " -62.971,\n",
       " -63.512,\n",
       " -67.404,\n",
       " -62.562,\n",
       " -64.737,\n",
       " -65.649,\n",
       " -65.116,\n",
       " -62.768,\n",
       " -64.199,\n",
       " -62.867,\n",
       " -64.655,\n",
       " -62.048,\n",
       " -61.266,\n",
       " -61.106,\n",
       " -62.312,\n",
       " -60.362,\n",
       " -65.594,\n",
       " -61.532,\n",
       " -63.444,\n",
       " -61.702,\n",
       " -59.052,\n",
       " -60.348,\n",
       " -66.075,\n",
       " -65.441,\n",
       " -63.249,\n",
       " -62.633,\n",
       " -63.935,\n",
       " -61.812,\n",
       " -66.699,\n",
       " -65.649,\n",
       " -60.271,\n",
       " -68.179,\n",
       " -67.119,\n",
       " -65.328,\n",
       " -59.876,\n",
       " -65.55,\n",
       " -60.241,\n",
       " -68.651,\n",
       " -63.188,\n",
       " -68.05,\n",
       " -59.417,\n",
       " -63.831,\n",
       " -62.842,\n",
       " -65.46,\n",
       " -67.704,\n",
       " -63.089,\n",
       " -68.16,\n",
       " -61.194,\n",
       " -67.847,\n",
       " -61.708,\n",
       " -67.091,\n",
       " -67.531,\n",
       " -67.292,\n",
       " -64.13,\n",
       " -68.599,\n",
       " -64.754,\n",
       " -64.419,\n",
       " -62.375,\n",
       " -67.171,\n",
       " -62.974,\n",
       " -61.43,\n",
       " -67.924,\n",
       " -61.859,\n",
       " -64.444,\n",
       " -61.013,\n",
       " -68.789,\n",
       " -59.34,\n",
       " -70.0,\n",
       " -63.625,\n",
       " -60.247,\n",
       " -61.021,\n",
       " -65.781,\n",
       " -69.901,\n",
       " -64.971,\n",
       " -63.067,\n",
       " -64.485,\n",
       " -66.13,\n",
       " -62.818,\n",
       " -61.376,\n",
       " -62.71,\n",
       " -65.8,\n",
       " -66.114,\n",
       " -65.369,\n",
       " -64.754,\n",
       " -67.723,\n",
       " -61.623,\n",
       " -61.939,\n",
       " -65.973,\n",
       " -64.935,\n",
       " -60.398,\n",
       " -65.259,\n",
       " -66.138,\n",
       " -63.375,\n",
       " -69.099,\n",
       " -68.981,\n",
       " -68.591,\n",
       " -60.612,\n",
       " -66.232,\n",
       " -67.866,\n",
       " -64.88,\n",
       " -61.422,\n",
       " -64.743,\n",
       " -62.265,\n",
       " -66.094,\n",
       " -64.389,\n",
       " -61.06,\n",
       " -61.444,\n",
       " -63.864,\n",
       " -67.984,\n",
       " -65.317,\n",
       " -65.921,\n",
       " -65.707,\n",
       " -61.628,\n",
       " -64.737,\n",
       " -63.279,\n",
       " -64.268,\n",
       " -61.996,\n",
       " -60.142,\n",
       " -64.556,\n",
       " -58.763,\n",
       " -64.265,\n",
       " -65.246,\n",
       " -66.855,\n",
       " -59.692,\n",
       " -60.664,\n",
       " -63.655,\n",
       " -61.713,\n",
       " -64.119,\n",
       " -61.711,\n",
       " -61.735,\n",
       " -60.494,\n",
       " -67.404,\n",
       " -67.286,\n",
       " -65.199,\n",
       " -62.323,\n",
       " -67.429,\n",
       " -63.902,\n",
       " -66.237,\n",
       " -62.565,\n",
       " -66.396,\n",
       " -64.015,\n",
       " -65.221,\n",
       " -62.554,\n",
       " -61.197,\n",
       " -60.579,\n",
       " -68.706,\n",
       " -65.99,\n",
       " -61.397,\n",
       " -61.766,\n",
       " -65.105,\n",
       " -61.815,\n",
       " -60.549,\n",
       " -67.308,\n",
       " -66.454,\n",
       " -64.243,\n",
       " -69.074,\n",
       " -61.84,\n",
       " -61.422,\n",
       " -60.928,\n",
       " -64.161,\n",
       " -65.149,\n",
       " -61.716,\n",
       " -61.527,\n",
       " -64.424,\n",
       " -63.144,\n",
       " -69.753,\n",
       " -64.268,\n",
       " -65.512,\n",
       " -64.221,\n",
       " -59.39,\n",
       " -68.215,\n",
       " -62.886,\n",
       " -66.092,\n",
       " -63.158,\n",
       " -59.175,\n",
       " -60.17,\n",
       " -67.028,\n",
       " -59.89,\n",
       " -61.796,\n",
       " -65.438,\n",
       " -64.902,\n",
       " -64.43,\n",
       " -60.057,\n",
       " -63.205,\n",
       " -67.594,\n",
       " -62.774,\n",
       " -63.205,\n",
       " -65.567,\n",
       " -69.618,\n",
       " -59.629,\n",
       " -62.249,\n",
       " -60.527,\n",
       " -67.926,\n",
       " -63.144,\n",
       " -62.433,\n",
       " -63.183,\n",
       " -65.045,\n",
       " -68.91,\n",
       " -60.255,\n",
       " -61.576,\n",
       " -63.603,\n",
       " -65.27,\n",
       " -62.449,\n",
       " -69.399,\n",
       " -62.892,\n",
       " -67.564,\n",
       " -68.322,\n",
       " -60.227,\n",
       " -64.023,\n",
       " -62.76,\n",
       " -68.739,\n",
       " -68.347,\n",
       " -68.294,\n",
       " -61.631,\n",
       " -64.457,\n",
       " -67.819,\n",
       " -61.628,\n",
       " -63.96,\n",
       " -61.433,\n",
       " -66.05,\n",
       " -66.759,\n",
       " -61.576,\n",
       " -62.447,\n",
       " -66.394,\n",
       " -63.828,\n",
       " -60.793,\n",
       " -65.908]"
      ]
     },
     "execution_count": 65,
     "metadata": {},
     "output_type": "execute_result"
    }
   ],
   "source": [
    "inst.write(\"OD;\")\n",
    "inst.read_ascii_values()"
   ]
  },
  {
   "cell_type": "code",
   "execution_count": null,
   "metadata": {},
   "outputs": [],
   "source": []
  }
 ],
 "metadata": {
  "kernelspec": {
   "display_name": "Python 3",
   "language": "python",
   "name": "python3"
  },
  "language_info": {
   "codemirror_mode": {
    "name": "ipython",
    "version": 3
   },
   "file_extension": ".py",
   "mimetype": "text/x-python",
   "name": "python",
   "nbconvert_exporter": "python",
   "pygments_lexer": "ipython3",
   "version": "3.10.9"
  }
 },
 "nbformat": 4,
 "nbformat_minor": 2
}
